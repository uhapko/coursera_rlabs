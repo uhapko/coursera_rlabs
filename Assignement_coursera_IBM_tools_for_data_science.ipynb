{
    "cells": [
        {
            "metadata": {
                "collapsed": true
            },
            "cell_type": "markdown",
            "source": "# My Jupyter Notebook on IBM Watson Studio"
        },
        {
            "metadata": {},
            "cell_type": "markdown",
            "source": "**HAPKO ULADZISLAU**\nStudent"
        },
        {
            "metadata": {},
            "cell_type": "markdown",
            "source": "_I am interested in data science because of my occupation of a medicinal chemist. I am interested in data science because I would like to be an educated individual, and having heard a lot about machine learning, deep learning and AI, I would like to have a perspective on it all._"
        },
        {
            "metadata": {},
            "cell_type": "markdown",
            "source": "### Here the function will generate first N Fibonacci numbers, N is defined by the user"
        },
        {
            "metadata": {},
            "cell_type": "code",
            "source": "def fibloop(n:int):\n    if n == 0:\n        return 0\n    if n == 1: \n        return 1\n    n0 = 0; n1 = 1; ind = 1\n    while not ind == n:\n        n2 = n0+n1\n        n0 = n1\n        n1 = n2\n        ind +=1\n    return (n2)\nnumb = int(input(\"Type the number of members of Fibonacci sequence you want to compute and press enter\"))\nprint(numb)\nfor i in range (numb):\n  print (fibloop(i))",
            "execution_count": null,
            "outputs": []
        },
        {
            "metadata": {},
            "cell_type": "markdown",
            "source": "*** \n***\n[link that you all would like to click] (https://www.google.com/)\n- Bullet point 1\n* Bullet point 2"
        }
    ],
    "metadata": {
        "kernelspec": {
            "name": "python3",
            "display_name": "Python 3.10",
            "language": "python"
        },
        "language_info": {
            "name": "python",
            "version": "3.10.6",
            "mimetype": "text/x-python",
            "codemirror_mode": {
                "name": "ipython",
                "version": 3
            },
            "pygments_lexer": "ipython3",
            "nbconvert_exporter": "python",
            "file_extension": ".py"
        },
        "celltoolbar": "Raw Cell Format"
    },
    "nbformat": 4,
    "nbformat_minor": 1
}